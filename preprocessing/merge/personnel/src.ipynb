{
 "cells": [
  {
   "cell_type": "code",
   "execution_count": 127,
   "metadata": {},
   "outputs": [],
   "source": [
    "import pandas as pd\n",
    "from functools import reduce"
   ]
  },
  {
   "cell_type": "code",
   "execution_count": 128,
   "metadata": {},
   "outputs": [],
   "source": [
    "def read_employment():\n",
    "    df = pd.read_csv(\"../data/input/georgia.csv\")\n",
    "    df['uid'] = df['uid'].str.strip().str.lower().str.replace(r\"[^\\w\\s]\", \"\", regex=True)\n",
    "    df = df[[\"uid\", \"first_name\", \"last_name\", \"middle_name\"]]\n",
    "    # df.loc[:, \"agcy_name\"] = df.agcy_name.str.lower().str.strip()\n",
    "    return df \n",
    "\n",
    "def read_agency():\n",
    "    df = pd.read_csv(\"../data/input/agency_data.csv\")\n",
    "    df = df.rename(columns={\"AKEY\": \"agcy_name\"})\n",
    "    df.loc[:, \"agcy_name\"] = df.agcy_name.str.lower().str.strip()\n",
    "    return df \n",
    "\n",
    "def read_per():\n",
    "    df = pd.read_csv(\"../data/input/officer_data.csv\")\n",
    "    df = df.rename(columns={\"OKEY\": \"uid\", \" YOB\": \"year_of_birth\", \" SEX\": \"sex\", \" RACE \": \"race\"})\n",
    "    df['uid'] = df['uid'].str.strip().str.lower().str.replace(r\"[^\\w\\s]\", \"\", regex=True)\n",
    "    df = df[[\"uid\", \"year_of_birth\", \"sex\", \"race\"]]\n",
    "    return df \n",
    "\n",
    "def read_investigations():\n",
    "    df = pd.read_csv(\"../data/input/officer_investigations.csv\", on_bad_lines=\"skip\")\n",
    "    df = df.reset_index()\n",
    "    df = df.rename(columns={'index': 'case_number', 'CASE': 'uid', ' AGENCY': \"date_opened\", ' NAME': \"agcy_name\"})\n",
    "    df['uid'] = df['uid'].str.strip().str.lower().str.replace(r\"[^\\w\\s]\", \"\", regex=True)\n",
    "    df['case_number'] = df['case_number'].str.strip().str.lower().str.replace(r\"[^\\w\\s]\", \"\", regex=True)\n",
    "\n",
    "    df = df[[\"case_number\", \"uid\", \"date_opened\", \"agcy_name\"]]\n",
    "\n",
    "    return df \n",
    "\n",
    "\n",
    "def read_violations():\n",
    "    df = pd.read_csv(\"../data/input/officer_violations.csv\", on_bad_lines=\"skip\")\n",
    "    df = df.reset_index()\n",
    "    df = df.rename(columns={'index': 'case_number', 'CASE': 'uid', ' NAME': 'allegation', ' VIOLATION': 'incident_date'})\n",
    "    df['uid'] = df['uid'].str.strip().str.lower().str.replace(r\"[^\\w\\s]\", \"\", regex=True)\n",
    "    df['case_number'] = df['case_number'].str.strip().str.lower().str.replace(r\"[^\\w\\s]\", \"\", regex=True)\n",
    "\n",
    "    df = df[[\"case_number\", \"uid\", \"allegation\", \"incident_date\"]]\n",
    "    return df \n",
    "\n",
    "\n",
    "def read_actions():\n",
    "    df = pd.read_csv(\"../data/input/officer_sanctions.csv\", on_bad_lines=\"skip\")\n",
    "    df = df.reset_index()\n",
    "    df = df.rename(columns={'index': 'case_number', 'CASE': 'uid', ' NAME': 'action', \" SANCTION\": \"action_date\"})\n",
    "    df['uid'] = df['uid'].str.strip().str.lower().str.replace(r\"[^\\w\\s]\", \"\", regex=True)\n",
    "    df['case_number'] = df['case_number'].str.strip().str.lower().str.replace(r\"[^\\w\\s]\", \"\", regex=True)\n",
    "\n",
    "\n",
    "    df = df[[\"case_number\", \"uid\", \"action\", \"action_date\"]]\n",
    "\n",
    "\n",
    "    return df "
   ]
  },
  {
   "cell_type": "code",
   "execution_count": 129,
   "metadata": {},
   "outputs": [
    {
     "data": {
      "text/plain": [
       "1681"
      ]
     },
     "execution_count": 129,
     "metadata": {},
     "output_type": "execute_result"
    }
   ],
   "source": [
    "dfa = read_employment()\n",
    "\n",
    "# dfb = read_agency()\n",
    "\n",
    "dfc = read_investigations()\n",
    "\n",
    "\n",
    "dfd = read_violations()\n",
    "\n",
    "dfe = read_actions()\n",
    "\n",
    "\n",
    "# misconduct = pd.merge(dfc, dfd, on=\"case_number\")\n",
    "# misconduct = pd.merge(misconduct, dfe, on=\"case_number\")\n",
    "\n",
    "# misconduct['uid_match'] = misconduct.apply(lambda x: x['uid_x'] == x['uid_y'] == x['uid'], axis=1)\n",
    "\n",
    "# misconduct = misconduct.drop(columns=[\"uid_x\", \"uid_y\"])\n",
    "# misconduct = misconduct.drop_duplicates(subset=[\"case_number\", \"date_opened\", \"agcy_name\", \"allegation\", \"incident_date\" , \"uid\", \"action_date\"])\n",
    "\n",
    "# misconduct = misconduct.sort_values([\"uid\", \"case_number\"])\n",
    "\n",
    "# misconduct.loc[:, \"agcy_name\"] = misconduct.agcy_name.str.replace(r\"(\\w+) (.+)\", r\"\\2\", regex=True).str.replace(r\"^ (.+)\", r\"\\1\")\n",
    "\n",
    "# misconduct\n",
    "# misconduct.to_csv(\"../data/output/misconduct_georgia.csv\", index=False)"
   ]
  }
 ],
 "metadata": {
  "kernelspec": {
   "display_name": "Python 3",
   "language": "python",
   "name": "python3"
  },
  "language_info": {
   "codemirror_mode": {
    "name": "ipython",
    "version": 3
   },
   "file_extension": ".py",
   "mimetype": "text/x-python",
   "name": "python",
   "nbconvert_exporter": "python",
   "pygments_lexer": "ipython3",
   "version": "3.11.7"
  }
 },
 "nbformat": 4,
 "nbformat_minor": 2
}
