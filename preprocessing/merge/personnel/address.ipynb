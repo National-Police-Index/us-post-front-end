{
 "cells": [
  {
   "cell_type": "code",
   "execution_count": 52,
   "metadata": {},
   "outputs": [],
   "source": [
    "import pandas as pd\n",
    "from functools import reduce"
   ]
  },
  {
   "cell_type": "code",
   "execution_count": 53,
   "metadata": {},
   "outputs": [],
   "source": [
    "def read_employment():\n",
    "    df = pd.read_csv(\"../data/input/georgia.csv\")\n",
    "    # df['uid'] = df['uid'].str.strip().str.lower().str.replace(r\"[^\\w\\s]\", \"\", regex=True)\n",
    "    # df = df[[\"uid\", \"first_name\", \"last_name\", \"middle_name\"]]\n",
    "    df.loc[:, \"agcy_name\"] = df.agcy_name.str.lower().str.strip()\n",
    "    return df \n",
    "\n",
    "def read_agency():\n",
    "    df = pd.read_csv(\"../data/input/agency_data.csv\")\n",
    "    df = df.rename(columns={\"AKEY\": \"agcy_name\"})\n",
    "    df.loc[:, \"agcy_name\"] = df.agcy_name.str.lower().str.strip()\n",
    "    return df \n"
   ]
  },
  {
   "cell_type": "code",
   "execution_count": 54,
   "metadata": {},
   "outputs": [],
   "source": [
    "dfa = read_employment()\n",
    "\n",
    "dfb = read_agency()\n",
    "\n",
    "df = pd.merge(dfa, dfb, on=\"agcy_name\")\n",
    "\n",
    "\n",
    "df = df.rename(columns={\"AKEY\": \"department_name\" ,\" NAME\": \"add\", \" ADDRESS\": \"city\", \" CITY\": \"state\", \" STATE\": \"zip\"})\n",
    "df = df.drop(columns=[\" CEO\", \" PHONE \", \" ZIP\"])\n",
    "\n",
    "df.loc[:, \"state\"] = df.state.str.replace(r\"(.+)\", \"Georgia, \", regex=True)\n",
    "\n",
    "df.loc[:, \"zip\"] = df.zip.str.replace(r\"(.+)\", r\"\\1,United States\", regex=True)\n",
    "\n",
    "df.loc[:, \"address\"]  = df[\"add\"] + \",\" + df[\"city\"] + \", \" + df[\"state\"] + \"\" + df[\"zip\"]\n",
    "\n",
    "df.loc[:, \"address\"] = df.address.str.lower().str.strip()\n",
    "\n",
    "df = df.drop(columns=[\"add\", \"city\", \"state\", \"zip\", \"latitude\", \"longitude\"])\n",
    "\n",
    "\n",
    "\n",
    "df.to_csv(\"../data/output/employment_with_address.csv\", index=False)"
   ]
  },
  {
   "cell_type": "code",
   "execution_count": null,
   "metadata": {},
   "outputs": [],
   "source": []
  }
 ],
 "metadata": {
  "kernelspec": {
   "display_name": "Python 3",
   "language": "python",
   "name": "python3"
  },
  "language_info": {
   "codemirror_mode": {
    "name": "ipython",
    "version": 3
   },
   "file_extension": ".py",
   "mimetype": "text/x-python",
   "name": "python",
   "nbconvert_exporter": "python",
   "pygments_lexer": "ipython3",
   "version": "3.11.7"
  }
 },
 "nbformat": 4,
 "nbformat_minor": 2
}
