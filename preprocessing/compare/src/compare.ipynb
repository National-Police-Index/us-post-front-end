{
 "cells": [
  {
   "cell_type": "code",
   "execution_count": 22,
   "metadata": {},
   "outputs": [],
   "source": [
    "import pandas as pd"
   ]
  },
  {
   "cell_type": "code",
   "execution_count": 23,
   "metadata": {},
   "outputs": [
    {
     "name": "stderr",
     "output_type": "stream",
     "text": [
      "/var/folders/4r/jhc99db14v58mjmncgtry0kc0000gn/T/ipykernel_17368/978734319.py:7: DtypeWarning: Columns (0,1,17,18) have mixed types. Specify dtype option on import or set low_memory=False.\n",
      "  dfb = pd.read_csv(\"../data/input/florida.csv\")\n"
     ]
    }
   ],
   "source": [
    "dfa = pd.read_csv(\"../data/input/employment_with_add_coord.csv\")\n",
    "\n",
    "dfa[\"state\"] = \"Georgia\"\n",
    "\n",
    "dfa = dfa[[\"uid\", \"first_name\", \"middle_name\", \"last_name\", \"employ_start_date\", \"separation_date\", \"agcy_name\", \"state\", \"latitude\", \"longitude\", \"separation_code\"]]\n",
    "\n",
    "dfb = pd.read_csv(\"../data/input/florida.csv\")\n",
    "\n",
    "dfb[\"state\"] = \"Florida\"\n",
    "\n",
    "dfb.loc[:, \"uid\"]  = dfb.person_nbr\n",
    "\n",
    "dfb = dfb[[\"uid\", \"first_name\", \"middle_name\", \"last_name\", \"employ_start_date\", \"separation_date\", \"agcy_name\", \"state\", \"latitude\", \"longitude\", \"separation_code\"]]\n",
    "\n",
    "df = pd.concat([dfa, dfb])   \n",
    "\n",
    "df.loc[:, \"employ_start_date\"] = df.employ_start_date.str.replace(r\" (\\w+):(\\w+):(\\w+)\", \"\", regex=True).str.replace(r\"(\\w+)\\/(\\w+)\\/(\\w+)\",r\"\\3-\\1-\\2\", regex=True) \n",
    "df.loc[:, \"separation_date\"] = df.separation_date.str.replace(r\" (\\w+):(\\w+):(\\w+)\", \"\", regex=True).str.replace(r\"(\\w+)\\/(\\w+)\\/(\\w+)\",r\"\\3-\\1-\\2\", regex=True)\n",
    "\n",
    "df.loc[:, \"first_name\"] = df.first_name.str.title()\n",
    "df.loc[:, \"middle_name\"] = df.middle_name.str.title()\n",
    "df.loc[:, \"last_name\"] = df.last_name.str.title()\n",
    "\n",
    "df.loc[:, \"agcy_name\"] = df.agcy_name.str.title() \n",
    "\n",
    "df\n",
    "\n",
    "df.to_csv(\"../data/output/ga_fl.csv\", index=False)"
   ]
  },
  {
   "cell_type": "code",
   "execution_count": 24,
   "metadata": {},
   "outputs": [
    {
     "data": {
      "text/plain": [
       "array(['Henry County Police Department', 'Rabun County Sheriffs Office',\n",
       "       'Bibb County Sheriffs Office', ..., 'Bay Pines Va Police',\n",
       "       'U S Coast Guard / Opa-Locka', 'Biscayne College'], dtype=object)"
      ]
     },
     "execution_count": 24,
     "metadata": {},
     "output_type": "execute_result"
    }
   ],
   "source": [
    "\n",
    "df.agcy_name.unique()"
   ]
  }
 ],
 "metadata": {
  "kernelspec": {
   "display_name": "Python 3",
   "language": "python",
   "name": "python3"
  },
  "language_info": {
   "codemirror_mode": {
    "name": "ipython",
    "version": 3
   },
   "file_extension": ".py",
   "mimetype": "text/x-python",
   "name": "python",
   "nbconvert_exporter": "python",
   "pygments_lexer": "ipython3",
   "version": "3.11.7"
  }
 },
 "nbformat": 4,
 "nbformat_minor": 2
}
