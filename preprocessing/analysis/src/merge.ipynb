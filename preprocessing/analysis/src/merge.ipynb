{
 "cells": [
  {
   "cell_type": "code",
   "execution_count": 53,
   "metadata": {},
   "outputs": [
    {
     "data": {
      "text/plain": [
       "(60368, 17)"
      ]
     },
     "execution_count": 53,
     "metadata": {},
     "output_type": "execute_result"
    }
   ],
   "source": [
    "import pandas as pd\n",
    "\n",
    "\n",
    "dfa = pd.read_csv(\"../data/input/officer_data.csv\")\n",
    "\n",
    "dfa.columns\n",
    "\n",
    "dfa = dfa.rename(columns={\"OKEY\": \"uid\", \" LAST NAME\": \"last_name\", \" FIRST NAME\": \"first_name\", \" MIDDLE\": \"middle_name\"})\n",
    "\n",
    "dfa = dfa[[\"uid\", \"first_name\", \"middle_name\", \"last_name\"]]\n",
    "\n",
    "dfa.loc[:, \"uid\"] = dfa.uid.str.lower().str.strip().str.replace(r\"^ (\\w+)\", r\"\\1\", regex=True).str.replace(r\"(\\w+) $\", r\"\\1\", regex=True)\n",
    "\n",
    "dfa = dfa.drop_duplicates(subset=[\"uid\"])\n",
    "\n",
    "# dfa = pd.read_csv(\"../data/input/employment_with_add_coord.csv\")\n",
    "\n",
    "# dfa = dfa[[\"uid\", \"first_name\", \"middle_name\", \"last_name\"]]\n",
    "\n",
    "# dfa.loc[:, \"uid\"] = dfa.uid.str.lower().str.strip().str.replace(r\"^ (\\w+)\", r\"\\1\", regex=True).str.replace(r\"(\\w+) $\", r\"\\1\", regex=True)\n",
    "\n",
    "# dfa = dfa.drop_duplicates(subset=[\"uid\"])\n",
    "# dfa\n",
    "\n",
    "\n",
    "dfb = pd.read_csv(\"../data/input/misconduct.csv\")\n",
    "dfb.loc[:, \"uid\"] = dfb.uid.str.lower().str.strip().str.replace(r\"^ (\\w+)\", r\"\\1\", regex=True).str.replace(r\"(\\w+) $\", r\"\\1\", regex=True)\n",
    "\n",
    "df = pd.merge(dfa, dfb, on=\"uid\", how=\"right\")\n",
    "\n",
    "df.loc[:, \"first_name\"] = df.first_name.str.title()\n",
    "df.loc[:, \"middle_name\"] = df.middle_name.str.title()\n",
    "df.loc[:, \"last_name\"] = df.last_name.str.title()\n",
    "\n",
    "# df.loc[:, \"last_name\"] = df.last_name.fillna(\"\")\n",
    "\n",
    "# df = df[~((df.last_name == \"\"))]\n",
    "\n",
    "df.shape\n",
    "\n",
    "\n",
    "# df.to_csv(\"../data/output/misconduct.csv\", index=False)\n"
   ]
  }
 ],
 "metadata": {
  "kernelspec": {
   "display_name": "Python 3",
   "language": "python",
   "name": "python3"
  },
  "language_info": {
   "codemirror_mode": {
    "name": "ipython",
    "version": 3
   },
   "file_extension": ".py",
   "mimetype": "text/x-python",
   "name": "python",
   "nbconvert_exporter": "python",
   "pygments_lexer": "ipython3",
   "version": "3.11.7"
  }
 },
 "nbformat": 4,
 "nbformat_minor": 2
}
