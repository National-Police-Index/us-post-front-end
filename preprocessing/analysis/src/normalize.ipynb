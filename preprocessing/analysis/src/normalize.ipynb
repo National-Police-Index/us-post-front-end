{
 "cells": [
  {
   "cell_type": "code",
   "execution_count": 37,
   "metadata": {},
   "outputs": [],
   "source": [
    "import pandas as pd"
   ]
  },
  {
   "cell_type": "code",
   "execution_count": 38,
   "metadata": {},
   "outputs": [],
   "source": [
    "df = pd.read_csv(\"../data/input/misconduct.csv\")\n",
    "\n",
    "df.loc[:, \"most_common_allegation\"] = df.most_common_allegation.str.title()\n",
    "\n",
    "df.loc[:, \"most_common_action\"] = df.most_common_action.str.title()\n",
    "\n",
    "df.loc[:, \"allegation\"] = df.allegation.str.title()\n",
    "df.loc[:, \"action\"] = df.action.str.title()\n",
    "\n",
    "df.loc[:, \"action_year\"] = df.action_date.str.replace(r\"(\\w+)-(.+)\", r\"\\1\", regex=True)\n",
    "\n",
    "\n",
    "df.loc[:, \"action_year\"] = df.action_year.astype(int)\n",
    "\n",
    "df\n",
    "\n",
    "df[\"allegation_num\"] = 1\n",
    "\n",
    "# df\n",
    "\n",
    "\n",
    "df.to_csv(\"../data/output/misconduct.csv\", index=False)"
   ]
  }
 ],
 "metadata": {
  "kernelspec": {
   "display_name": "Python 3",
   "language": "python",
   "name": "python3"
  },
  "language_info": {
   "codemirror_mode": {
    "name": "ipython",
    "version": 3
   },
   "file_extension": ".py",
   "mimetype": "text/x-python",
   "name": "python",
   "nbconvert_exporter": "python",
   "pygments_lexer": "ipython3",
   "version": "3.11.7"
  }
 },
 "nbformat": 4,
 "nbformat_minor": 2
}
