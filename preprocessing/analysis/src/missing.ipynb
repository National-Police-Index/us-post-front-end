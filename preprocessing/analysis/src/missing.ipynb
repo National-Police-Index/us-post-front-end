{
 "cells": [
  {
   "cell_type": "code",
   "execution_count": 41,
   "metadata": {},
   "outputs": [],
   "source": [
    "import pandas as pd"
   ]
  },
  {
   "cell_type": "code",
   "execution_count": 42,
   "metadata": {},
   "outputs": [
    {
     "name": "stdout",
     "output_type": "stream",
     "text": [
      "missing_rows_count_incident 26013\n",
      "(60368, 12)\n",
      "Missing date open values 10829\n",
      "(60368, 12)\n",
      "Missing date open values 106\n",
      "(60368, 12)\n"
     ]
    },
    {
     "data": {
      "text/plain": [
       "action_year\n",
       "2010       3519\n",
       "2014       3271\n",
       "2018       3005\n",
       "2013       2861\n",
       "2008       2747\n",
       "2009       2605\n",
       "2016       2587\n",
       "2015       2424\n",
       "2017       2326\n",
       "2019       2299\n",
       "2006       2258\n",
       "2020       2177\n",
       "2011       2133\n",
       "2012       2017\n",
       "2005       1990\n",
       "2004       1911\n",
       "2007       1899\n",
       "2022       1735\n",
       "2002       1663\n",
       "2003       1622\n",
       "2001       1424\n",
       "2021       1393\n",
       "1999        962\n",
       "1998        940\n",
       "2000        860\n",
       "1992        817\n",
       "1997        814\n",
       "1993        709\n",
       "1994        706\n",
       "1996        705\n",
       "1991        633\n",
       "1995        621\n",
       "1990        471\n",
       "1989        468\n",
       "1988        462\n",
       "1986        319\n",
       "1987        314\n",
       "1984        207\n",
       "1985        174\n",
       "Missing     106\n",
       "1983         97\n",
       "1982         30\n",
       "1979         11\n",
       "1978         10\n",
       "0201          9\n",
       "1981          9\n",
       "0013          8\n",
       "1974          8\n",
       "1980          8\n",
       "1977          4\n",
       "1976          4\n",
       "0014          4\n",
       "1942          2\n",
       "1973          2\n",
       "1959          2\n",
       "0004          2\n",
       "0212          2\n",
       "0015          1\n",
       "1975          1\n",
       "Name: count, dtype: int64"
      ]
     },
     "execution_count": 42,
     "metadata": {},
     "output_type": "execute_result"
    }
   ],
   "source": [
    "df = pd.read_csv(\"../data/input/misconduct.csv\")\n",
    "\n",
    "\n",
    "\n",
    "df.loc[:, \"incident_date\"] = df.incident_date.astype(str).str.replace(r\"0000-00-00\", \"Missing\", regex=True)\n",
    "\n",
    "df.loc[:, \"incident_date\"] = df.incident_date.str.replace(r\"^ (\\w+)\", r\"\\1\", regex=True).str.replace(r\"(\\w+) $\", \"\", regex=True)\n",
    "\n",
    "missing_rows_count_incident = (df['incident_date'] == 'Missing').sum()\n",
    "print(f\"missing_rows_count_incident {missing_rows_count_incident}\")\n",
    "print(df.shape)\n",
    "\n",
    "\n",
    "\n",
    "df.loc[:, \"date_opened\"] = df.date_opened.astype(str).str.replace(r\"0000-00-00\", \"Missing\", regex=True)\n",
    "\n",
    "df.loc[:, \"date_opened\"] = df.date_opened.str.replace(r\"^ (\\w+)\", r\"\\1\", regex=True).str.replace(r\"(\\w+) $\", \"\", regex=True)\n",
    "\n",
    "missing_rows_count = (df['date_opened'] == 'Missing').sum()\n",
    "print(f\"Missing date open values {missing_rows_count}\")\n",
    "print(df.shape)\n",
    "\n",
    "\n",
    "df.loc[:, \"action_date\"] = df.action_date.astype(str).str.replace(r\"0000-00-00\", \"Missing\", regex=True)\n",
    "\n",
    "df.loc[:, \"action_date\"] = df.action_date.str.replace(r\"^ (\\w+)\", r\"\\1\", regex=True).str.replace(r\"(\\w+) $\", \"\", regex=True)\n",
    "\n",
    "missing_rows_count_action = (df['action_date'] == 'Missing').sum()\n",
    "print(f\"Missing date open values {missing_rows_count_action}\")\n",
    "print(df.shape)\n",
    "\n",
    "\n",
    "\n",
    "df.loc[:, \"action_year\"] = df.action_date.str.replace(r\"(\\w+)-(.+)\", r\"\\1\", regex=True)\n",
    "\n",
    "df.action_year.value_counts()\n",
    "\n",
    "\n",
    "# df.loc[:, \"opened_year\"] = df.date_opened.str.replace(r\"(\\w+)-(.+)\", r\"\\1\", regex=True)\n",
    "\n",
    "# df.opened_year.value_counts()\n"
   ]
  }
 ],
 "metadata": {
  "kernelspec": {
   "display_name": "Python 3",
   "language": "python",
   "name": "python3"
  },
  "language_info": {
   "codemirror_mode": {
    "name": "ipython",
    "version": 3
   },
   "file_extension": ".py",
   "mimetype": "text/x-python",
   "name": "python",
   "nbconvert_exporter": "python",
   "pygments_lexer": "ipython3",
   "version": "3.11.7"
  }
 },
 "nbformat": 4,
 "nbformat_minor": 2
}
