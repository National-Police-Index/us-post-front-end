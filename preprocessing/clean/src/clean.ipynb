{
 "cells": [
  {
   "cell_type": "code",
   "execution_count": 18,
   "metadata": {},
   "outputs": [
    {
     "data": {
      "text/plain": [
       "21052"
      ]
     },
     "execution_count": 18,
     "metadata": {},
     "output_type": "execute_result"
    }
   ],
   "source": [
    "import pandas as pd\n",
    "\n",
    "\n",
    "df = pd.read_csv(\"../data/input/employment_with_coordinates_georgia.csv\")\n",
    "\n",
    "def parse_date_years(df):\n",
    "    df.loc[:, \"start_year\"] = df.employ_start_date.str.replace(r\"(\\w+)-(.+)\", r\"\\1\", regex=True)\n",
    "    df.loc[:, \"end_year\"] = df.separation_date.str.replace(r\"(\\w+)-(.+)\", r\"\\1\", regex=True)\n",
    "\n",
    "    return df \n",
    "\n",
    "df = df.pipe(parse_date_years)\n",
    "\n",
    "df.uid.nunique()\n",
    "\n",
    "# # df.start_year.value_counts().head(30) \n",
    "\n",
    "# df.end_year.value_counts().head(30)"
   ]
  }
 ],
 "metadata": {
  "kernelspec": {
   "display_name": "Python 3",
   "language": "python",
   "name": "python3"
  },
  "language_info": {
   "codemirror_mode": {
    "name": "ipython",
    "version": 3
   },
   "file_extension": ".py",
   "mimetype": "text/x-python",
   "name": "python",
   "nbconvert_exporter": "python",
   "pygments_lexer": "ipython3",
   "version": "3.11.7"
  }
 },
 "nbformat": 4,
 "nbformat_minor": 2
}
