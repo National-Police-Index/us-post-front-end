{
 "cells": [
  {
   "cell_type": "code",
   "execution_count": null,
   "metadata": {},
   "outputs": [],
   "source": [
    "import pandas as pd\n",
    "import sys\n",
    "# Get the directory of the current script\n",
    "# sys.path.append(\"../\")\n",
    "\n",
    "# from lib.uid import gen_uid\n",
    "# from lib.clean import clean_names, clean_races, clean_sexes"
   ]
  },
  {
   "cell_type": "code",
   "execution_count": null,
   "metadata": {},
   "outputs": [],
   "source": [
    "def read_personnel_and_complaints():\n",
    "    dfa = pd.read_csv(\"../../../data/FL/2023-4-13/complaint_activity-20231220144255.csv\", encoding=\"latin1\")\n",
    "\n",
    "    dfa = dfa.rename(columns={\"staff_person_nbr\": \"person_nbr\"})\n",
    "\n",
    "    dfb = pd.read_csv(\"../../../data/FL/2023-4-13/person_data-20231220144255.csv\", encoding=\"latin1\")\n",
    "\n",
    "    df = pd.merge(dfa, dfb, on=\"person_nbr\")\n",
    "    return df\n"
   ]
  }
 ],
 "metadata": {
  "language_info": {
   "name": "python"
  }
 },
 "nbformat": 4,
 "nbformat_minor": 2
}
